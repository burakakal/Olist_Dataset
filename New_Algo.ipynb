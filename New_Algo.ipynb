{
  "nbformat": 4,
  "nbformat_minor": 0,
  "metadata": {
    "colab": {
      "provenance": [],
      "authorship_tag": "ABX9TyOTiiGJ+htdjEKV9o1IhYuf",
      "include_colab_link": true
    },
    "kernelspec": {
      "name": "python3",
      "display_name": "Python 3"
    },
    "language_info": {
      "name": "python"
    }
  },
  "cells": [
    {
      "cell_type": "markdown",
      "metadata": {
        "id": "view-in-github",
        "colab_type": "text"
      },
      "source": [
        "<a href=\"https://colab.research.google.com/github/burakakal/Olist_Dataset/blob/main/New_Algo.ipynb\" target=\"_parent\"><img src=\"https://colab.research.google.com/assets/colab-badge.svg\" alt=\"Open In Colab\"/></a>"
      ]
    },
    {
      "cell_type": "code",
      "source": [
        "import pandas as pd\n",
        "import datetime as dt\n",
        "import os\n",
        "\n",
        "from google.colab import drive"
      ],
      "metadata": {
        "id": "aOLVdXanlDkh"
      },
      "execution_count": null,
      "outputs": []
    },
    {
      "cell_type": "code",
      "source": [
        "drive.mount('/content/gdrive')"
      ],
      "metadata": {
        "colab": {
          "base_uri": "https://localhost:8080/"
        },
        "id": "SsoIp0dghMey",
        "outputId": "155a8da2-7703-4f36-e9d8-24d5075c6abd"
      },
      "execution_count": null,
      "outputs": [
        {
          "output_type": "stream",
          "name": "stdout",
          "text": [
            "Mounted at /content/gdrive\n"
          ]
        }
      ]
    },
    {
      "cell_type": "code",
      "source": [
        "CSV_DIR = r'/content/gdrive/MyDrive/AI/TWS/'\n",
        "MINUTES_DATE_FORMAT = '%Y%m%d  %H:%M:%S'\n",
        "MINUTES_COLUMNS = ['timestamp', 'quote']\n",
        "EOD_DATE_FORMAT = '%Y%m%d'\n",
        "EOD_COLUMNS = ['date','open','max','min','close', 'placeholder']"
      ],
      "metadata": {
        "id": "HWooi9l0iVzz"
      },
      "execution_count": null,
      "outputs": []
    },
    {
      "cell_type": "code",
      "execution_count": null,
      "metadata": {
        "id": "paddeZTpjqGd"
      },
      "outputs": [],
      "source": [
        "def read_csv(file_path: str, date_format: str, col_names: list) -> list[str, str]:\n",
        "  assert isinstance(file_path, str) and isinstance(date_format, str) and isinstance(col_names, list), 'wrong data type'\n",
        "  assert os.path.exists(os.path.dirname(file_path)) and os.path.isfile(file_path), \"file or path doesn't exists\"\n",
        "  df = pd.read_csv(file_path, index_col=0,header=None, parse_dates=[1], date_format=date_format, names = col_names)\n",
        "  df.reset_index(inplace=True, drop=True)\n",
        "  return df"
      ]
    },
    {
      "cell_type": "code",
      "source": [
        "minutes_csv = read_csv(file_path = CSV_DIR + 'NDX' + '_minutes.csv', date_format = MINUTES_DATE_FORMAT, col_names = MINUTES_COLUMNS)"
      ],
      "metadata": {
        "id": "cO1MJuUHkMC9"
      },
      "execution_count": null,
      "outputs": []
    },
    {
      "cell_type": "code",
      "source": [
        "eod_csv = read_csv(file_path = CSV_DIR + 'NDX' + '_daily.csv', date_format = EOD_DATE_FORMAT, col_names = EOD_COLUMNS)"
      ],
      "metadata": {
        "id": "HZtt6AEEmlTQ"
      },
      "execution_count": null,
      "outputs": []
    },
    {
      "cell_type": "code",
      "source": [
        "minutes_csv.head()"
      ],
      "metadata": {
        "id": "Rb77GfnanAra"
      },
      "execution_count": null,
      "outputs": []
    },
    {
      "cell_type": "code",
      "source": [
        "#change resolution function, for a given time window, last, median, max or min"
      ],
      "metadata": {
        "id": "5_65BkZeo37s"
      },
      "execution_count": null,
      "outputs": []
    },
    {
      "cell_type": "code",
      "source": [
        "#find std per row i.e. day"
      ],
      "metadata": {
        "id": "JiDSF4appJ6y"
      },
      "execution_count": null,
      "outputs": []
    },
    {
      "cell_type": "code",
      "source": [
        "#find beta value against reference for a time window"
      ],
      "metadata": {
        "id": "lcSax_sZpPRu"
      },
      "execution_count": null,
      "outputs": []
    }
  ]
}